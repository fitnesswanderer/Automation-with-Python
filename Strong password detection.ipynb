{
 "cells": [
  {
   "cell_type": "code",
   "execution_count": 1,
   "id": "fa84e86b",
   "metadata": {},
   "outputs": [],
   "source": [
    "import re"
   ]
  },
  {
   "cell_type": "code",
   "execution_count": 2,
   "id": "0a1ffe8b",
   "metadata": {},
   "outputs": [],
   "source": [
    "import pyperclip, re"
   ]
  },
  {
   "cell_type": "markdown",
   "id": "fbf34b95",
   "metadata": {},
   "source": [
    "## Strong Password Detection\n",
    "\n",
    "Write a function that uses regular expressions to make sure the password \n",
    "string it is passed is strong. A strong password is defined as one that is at \n",
    "least eight characters long, contains both uppercase and lowercase characters, and has at least one digit."
   ]
  },
  {
   "cell_type": "code",
   "execution_count": 3,
   "id": "b0b39743",
   "metadata": {},
   "outputs": [],
   "source": [
    "passregex = re.compile(r'''\n",
    ".{8,}                       # at -least 8 digit\n",
    "(.*?[A-Z]|.*?[a-z].*?[A-Z]) #at least one lower case and uppercase character\n",
    "(.*?[0-9].*?[!@#$&*_])      #at least one digit and a special character\n",
    "(.*?[0-9]|.*?[a-z]|.*?[A-Z]) # at least one digit or an uppercase or lower case character after special character                 \n",
    " ''', re.VERBOSE)\n"
   ]
  },
  {
   "cell_type": "code",
   "execution_count": 4,
   "id": "027b513c",
   "metadata": {},
   "outputs": [],
   "source": [
    "def PasswordCheck():\n",
    "    ppass = input(\"Enter a potential password: \")\n",
    "    mo = passregex.search(ppass)\n",
    "    if (not mo):\n",
    "        print(\"Not strong, \")\n",
    "        return False\n",
    "    else:\n",
    "        print(\"Strong password,Bingo\")\n",
    "        return True\n",
    "\n"
   ]
  },
  {
   "cell_type": "code",
   "execution_count": 5,
   "id": "8ffe267a",
   "metadata": {},
   "outputs": [
    {
     "name": "stdout",
     "output_type": "stream",
     "text": [
      "Enter a potential password: CCCCCCCCCCCCCbbbbbbb23@@@@2222Ff\n",
      "Strong password,Bingo\n"
     ]
    },
    {
     "data": {
      "text/plain": [
       "True"
      ]
     },
     "execution_count": 5,
     "metadata": {},
     "output_type": "execute_result"
    }
   ],
   "source": [
    "\n",
    "\n",
    "PasswordCheck()"
   ]
  },
  {
   "cell_type": "code",
   "execution_count": 6,
   "id": "605cbdbe",
   "metadata": {},
   "outputs": [
    {
     "name": "stdout",
     "output_type": "stream",
     "text": [
      "Enter a potential password: ddddfG4446@45\n",
      "Not strong, \n"
     ]
    },
    {
     "data": {
      "text/plain": [
       "False"
      ]
     },
     "execution_count": 6,
     "metadata": {},
     "output_type": "execute_result"
    }
   ],
   "source": [
    "PasswordCheck()"
   ]
  },
  {
   "cell_type": "code",
   "execution_count": 7,
   "id": "34763536",
   "metadata": {},
   "outputs": [
    {
     "name": "stdout",
     "output_type": "stream",
     "text": [
      "Enter a potential password: jjjjjjjjjNnnnnnn@34CCCC\n",
      "Not strong, \n"
     ]
    },
    {
     "data": {
      "text/plain": [
       "False"
      ]
     },
     "execution_count": 7,
     "metadata": {},
     "output_type": "execute_result"
    }
   ],
   "source": [
    "PasswordCheck()"
   ]
  },
  {
   "cell_type": "code",
   "execution_count": 8,
   "id": "aa7ac515",
   "metadata": {},
   "outputs": [
    {
     "name": "stdout",
     "output_type": "stream",
     "text": [
      "Enter a potential password: nnnnnnGGGGG56565@@@@12bbbbb\n",
      "Strong password,Bingo\n"
     ]
    },
    {
     "data": {
      "text/plain": [
       "True"
      ]
     },
     "execution_count": 8,
     "metadata": {},
     "output_type": "execute_result"
    }
   ],
   "source": [
    "PasswordCheck()"
   ]
  },
  {
   "cell_type": "code",
   "execution_count": null,
   "id": "2bc3e966",
   "metadata": {},
   "outputs": [],
   "source": []
  }
 ],
 "metadata": {
  "kernelspec": {
   "display_name": "Python 3 (ipykernel)",
   "language": "python",
   "name": "python3"
  },
  "language_info": {
   "codemirror_mode": {
    "name": "ipython",
    "version": 3
   },
   "file_extension": ".py",
   "mimetype": "text/x-python",
   "name": "python",
   "nbconvert_exporter": "python",
   "pygments_lexer": "ipython3",
   "version": "3.9.12"
  }
 },
 "nbformat": 4,
 "nbformat_minor": 5
}
