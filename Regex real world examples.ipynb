{
 "cells": [
  {
   "cell_type": "markdown",
   "id": "1bcce690",
   "metadata": {},
   "source": [
    "Real world examples\n",
    "\n",
    "Problem 1:Find website URLs that begin with http:// or https://."
   ]
  },
  {
   "cell_type": "code",
   "execution_count": 24,
   "id": "fa84e86b",
   "metadata": {},
   "outputs": [],
   "source": [
    "import re"
   ]
  },
  {
   "cell_type": "code",
   "execution_count": 25,
   "id": "0a1ffe8b",
   "metadata": {},
   "outputs": [],
   "source": [
    "import pyperclip, re"
   ]
  },
  {
   "cell_type": "code",
   "execution_count": 26,
   "id": "a69478f1",
   "metadata": {},
   "outputs": [],
   "source": [
    "urlregex = re.compile(r'''\n",
    "https?://              # matches http:// or https://\n",
    "(?:w{3}\\.)?       # subdomain\n",
    "[a-zA-Z0-9_-]+      # domain name\n",
    "\\.                  \n",
    "[\\.?a-zA-Z/]{2,}      # dot-something\n",
    " ''', re.VERBOSE)"
   ]
  },
  {
   "cell_type": "code",
   "execution_count": 27,
   "id": "fb484061",
   "metadata": {},
   "outputs": [],
   "source": [
    "text = str(pyperclip.paste()) #copying data from document to clipboard and converting it into a string\n",
    "matches = []                 #stores all matches in the list\n",
    "for website in urlregex.findall(text): #finding website from the string text\n",
    "    matches.append(website)\n"
   ]
  },
  {
   "cell_type": "code",
   "execution_count": 28,
   "id": "d6324983",
   "metadata": {},
   "outputs": [
    {
     "name": "stdout",
     "output_type": "stream",
     "text": [
      "Copied to clipboard:\n",
      "http://www.ietf.org/rfc/rfc\n",
      "http://www.example.com/software/index.html\n",
      "http://www.example.com\n"
     ]
    }
   ],
   "source": [
    "if len(matches) > 0:\n",
    "    pyperclip.copy('\\n'.join(map(str, matches))) #copying result to clipboard after adding newline after each match\n",
    "    print('Copied to clipboard:')\n",
    "    print('\\n'.join(matches))\n",
    "else:\n",
    "    print('No website found')"
   ]
  },
  {
   "cell_type": "markdown",
   "id": "4a80bff5",
   "metadata": {},
   "source": [
    "The url used for checking above code is https://www.ibm.com/docs/en/cics-ts/5.1?topic=concepts-components-url"
   ]
  },
  {
   "cell_type": "code",
   "execution_count": null,
   "id": "5a54dd83",
   "metadata": {},
   "outputs": [],
   "source": []
  }
 ],
 "metadata": {
  "kernelspec": {
   "display_name": "Python 3 (ipykernel)",
   "language": "python",
   "name": "python3"
  },
  "language_info": {
   "codemirror_mode": {
    "name": "ipython",
    "version": 3
   },
   "file_extension": ".py",
   "mimetype": "text/x-python",
   "name": "python",
   "nbconvert_exporter": "python",
   "pygments_lexer": "ipython3",
   "version": "3.9.12"
  }
 },
 "nbformat": 4,
 "nbformat_minor": 5
}
